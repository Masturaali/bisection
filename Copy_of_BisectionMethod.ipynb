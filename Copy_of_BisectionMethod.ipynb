{
  "nbformat": 4,
  "nbformat_minor": 0,
  "metadata": {
    "colab": {
      "provenance": [],
      "collapsed_sections": [],
      "include_colab_link": true
    },
    "kernelspec": {
      "name": "python3",
      "display_name": "Python 3"
    },
    "language_info": {
      "name": "python"
    }
  },
  "cells": [
    {
      "cell_type": "markdown",
      "metadata": {
        "id": "view-in-github",
        "colab_type": "text"
      },
      "source": [
        "<a href=\"https://colab.research.google.com/github/Masturaali/bisection/blob/main/Copy_of_BisectionMethod.ipynb\" target=\"_parent\"><img src=\"https://colab.research.google.com/assets/colab-badge.svg\" alt=\"Open In Colab\"/></a>"
      ]
    },
    {
      "cell_type": "code",
      "metadata": {
        "id": "qLzaQJQ8tnnk",
        "outputId": "283b8ef3-08df-4d8b-ec5d-bdd292fee2e6",
        "colab": {
          "base_uri": "https://localhost:8080/"
        }
      },
      "source": [
        "\n",
        "def f(x):\n",
        "    return x ** 3 - 3 * x - 1\n",
        "\n",
        "def bisection(a, b, e):\n",
        "    print('\\n\\n*** BISECTION METHOD IMPLEMENTATION ***')\n",
        "    condition = True\n",
        "    while condition:\n",
        "        p = (a + b) / 2\n",
        "        print('p = %0.6f and f(p) = %0.6f' % (p, f(p)))\n",
        "\n",
        "        if f(a) * f(p) < 0:\n",
        "            b = p\n",
        "        else:\n",
        "            a = p\n",
        "\n",
        "        condition = abs(f(p)) > e\n",
        "\n",
        "    print('\\nRequired Root is : %0.8f' % p)\n",
        "\n",
        "\n",
        "a = input('First Guess: ')\n",
        "b = input('Second Guess: ')\n",
        "e = input('Tolerable Error: ')\n",
        "\n",
        "a = float(a)\n",
        "b = float(b)\n",
        "e = float(e)\n",
        "\n",
        "\n",
        "\n",
        "if f(a) * f(b) > 0.0:\n",
        "    print('Given guess values do not bracket the root.')\n",
        "    print('Try Again with different guess values.')\n",
        "else:\n",
        "    bisection(a, b, e)"
      ],
      "execution_count": null,
      "outputs": [
        {
          "output_type": "stream",
          "name": "stdout",
          "text": [
            "First Guess: 1\n",
            "Second Guess: 2\n",
            "Tolerable Error: 0.01\n",
            "\n",
            "\n",
            "*** BISECTION METHOD IMPLEMENTATION ***\n",
            "p = 1.500000 and f(p) = -2.125000\n",
            "p = 1.750000 and f(p) = -0.890625\n",
            "p = 1.875000 and f(p) = -0.033203\n",
            "p = 1.937500 and f(p) = 0.460693\n",
            "p = 1.906250 and f(p) = 0.208160\n",
            "p = 1.890625 and f(p) = 0.086094\n",
            "p = 1.882812 and f(p) = 0.026101\n",
            "p = 1.878906 and f(p) = -0.003637\n",
            "\n",
            "Required Root is : 1.87890625\n"
          ]
        }
      ]
    }
  ]
}